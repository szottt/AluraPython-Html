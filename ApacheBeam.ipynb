{
  "nbformat": 4,
  "nbformat_minor": 0,
  "metadata": {
    "colab": {
      "provenance": [],
      "authorship_tag": "ABX9TyME7dgNtRx33VtdEmAsaF7P",
      "include_colab_link": true
    },
    "kernelspec": {
      "name": "python3",
      "display_name": "Python 3"
    },
    "language_info": {
      "name": "python"
    }
  },
  "cells": [
    {
      "cell_type": "markdown",
      "metadata": {
        "id": "view-in-github",
        "colab_type": "text"
      },
      "source": [
        "<a href=\"https://colab.research.google.com/github/szottt/AluraPython-Html/blob/master/ApacheBeam.ipynb\" target=\"_parent\"><img src=\"https://colab.research.google.com/assets/colab-badge.svg\" alt=\"Open In Colab\"/></a>"
      ]
    },
    {
      "cell_type": "code",
      "execution_count": null,
      "metadata": {
        "id": "PmrLVmFy5hiQ"
      },
      "outputs": [],
      "source": [
        "pip install apache-beam[interactive]"
      ]
    },
    {
      "cell_type": "code",
      "source": [
        "import apache_beam as beam"
      ],
      "metadata": {
        "id": "ca6MVENx6q-x"
      },
      "execution_count": null,
      "outputs": []
    },
    {
      "cell_type": "code",
      "source": [
        "p1 = beam.Pipeline()"
      ],
      "metadata": {
        "id": "WlFv7fVv6rBJ"
      },
      "execution_count": null,
      "outputs": []
    },
    {
      "cell_type": "code",
      "source": [
        "voos = (\n",
        "p1\n",
        "  #ReadFromParquet\n",
        "  #ReadFromBigQuery\n",
        "  | \"Importar Dados\" >> beam.io.ReadFromText(\"voos_sample.csv\", skip_header_lines = 1)\n",
        "  | \"Separar por Vírgul\" >> beam.Map(lambda record: record.split(','))\n",
        "  #| \"Mostrar Resultado\" >> beam.Map(print)\n",
        "  | \"Gravar Resultado\" >> beam.io.WriteToText(\"voos.txt\")\n",
        ")\n",
        "p1.run()\n",
        "\n"
      ],
      "metadata": {
        "id": "h1-FwoQV7Sed",
        "colab": {
          "base_uri": "https://localhost:8080/"
        },
        "outputId": "531dd450-7e86-4b45-d3a6-29badc8cfd8e"
      },
      "execution_count": null,
      "outputs": [
        {
          "output_type": "execute_result",
          "data": {
            "text/plain": [
              "<apache_beam.runners.portability.fn_api_runner.fn_runner.RunnerResult at 0x7fec9daf6c40>"
            ]
          },
          "metadata": {},
          "execution_count": 10
        }
      ]
    },
    {
      "cell_type": "code",
      "source": [
        "p2 = beam.Pipeline()\n",
        "\n",
        "Collection = (\n",
        "    p2\n",
        "    | \"Importar Dados\" >> beam.io.ReadFromText('poema.txt')\n",
        "    | \"Separando por Virgulas\" >> beam.FlatMap(lambda record: record.split(' '))\n",
        "    | \"Gravando o Resultado\" >> beam.io.WriteToText('resultado.txt')\n",
        ")\n",
        "\n",
        "p2.run()"
      ],
      "metadata": {
        "colab": {
          "base_uri": "https://localhost:8080/"
        },
        "id": "hLraCC9P7ShL",
        "outputId": "4b29b3ec-5ca4-454f-9c76-0ccf2b7acdb2"
      },
      "execution_count": null,
      "outputs": [
        {
          "output_type": "execute_result",
          "data": {
            "text/plain": [
              "<apache_beam.runners.portability.fn_api_runner.fn_runner.RunnerResult at 0x7fec8ec05e50>"
            ]
          },
          "metadata": {},
          "execution_count": 13
        }
      ]
    },
    {
      "cell_type": "code",
      "source": [
        "palavras=['quatro','um']\n",
        "\n",
        "def encontrarPlavras( i ):\n",
        "  if i in palavras:\n",
        "    return True\n",
        "\n",
        "p2_3 = beam.Pipeline()\n",
        "\n",
        "Collection = (\n",
        "    p2_3\n",
        "    | \"Importar Dados\" >> beam.io.ReadFromText('poema.txt')\n",
        "    | \"Separando por Virgulas\" >> beam.FlatMap(lambda record: record.split(' '))\n",
        "    | \"Filtrando\" >> beam.Filter(encontrarPlavras)\n",
        "    | \"Mostrar Resultado\" >> beam.Map(print)\n",
        "    #| \"Gravando o Resultado\" >> beam.io.WriteToText('resultado.txt')\n",
        ")\n",
        "\n",
        "p2_3.run()"
      ],
      "metadata": {
        "colab": {
          "base_uri": "https://localhost:8080/"
        },
        "id": "INmqlf1ndRP5",
        "outputId": "a235db3b-0a49-4c3b-908e-f230be0a40eb"
      },
      "execution_count": null,
      "outputs": [
        {
          "output_type": "stream",
          "name": "stdout",
          "text": [
            "quatro\n",
            "quatro\n",
            "um\n",
            "quatro\n",
            "quatro\n",
            "um\n"
          ]
        },
        {
          "output_type": "execute_result",
          "data": {
            "text/plain": [
              "<apache_beam.runners.portability.fn_api_runner.fn_runner.RunnerResult at 0x7fec8ea46880>"
            ]
          },
          "metadata": {},
          "execution_count": 19
        }
      ]
    },
    {
      "cell_type": "code",
      "source": [
        "p3 = beam.Pipeline()\n",
        "\n",
        "voos = (\n",
        "p3\n",
        "  #ReadFromParquet\n",
        "  #ReadFromBigQuery\n",
        "  | \"Importar Dados\" >> beam.io.ReadFromText(\"voos_sample.csv\", skip_header_lines = 1)\n",
        "  | \"Separar por Vírgul\" >> beam.Map(lambda record: record.split(','))\n",
        "  | \"Pegar voos de Los Angeles\" >> beam.Filter(lambda record: record[3] == 'LAX')\n",
        "  | \"Mostrar Resultado\" >> beam.Map(print)\n",
        "  #| \"Gravar Resultado\" >> beam.io.WriteToText(\"voos.txt\")\n",
        ")\n",
        "p3.run()\n"
      ],
      "metadata": {
        "id": "N4c95syU7SkH",
        "colab": {
          "base_uri": "https://localhost:8080/"
        },
        "outputId": "e320826a-97f3-4aeb-c202-95dbdaca6b5a"
      },
      "execution_count": null,
      "outputs": [
        {
          "output_type": "stream",
          "name": "stdout",
          "text": [
            "['2019-04-27', '19805', '2', 'LAX', 'JFK', '944', '14', '1736', '-29', '269', '2475', '2']\n",
            "['2019-04-27', '19805', '4', 'LAX', 'JFK', '1240', '25', '2028', '-27', '264', '2475', '4']\n",
            "['2019-04-27', '19805', '10', 'LAX', 'JFK', '2156', '21', '556', '1', '265', '2475', '10']\n",
            "['2019-04-27', '19805', '12', 'LAX', 'JFK', '1113', '-2', '1910', '-40', '267', '2475', '11']\n",
            "['2019-04-27', '19805', '22', 'LAX', 'JFK', '1458', '-2', '2336', '11', '272', '2475', '20']\n"
          ]
        },
        {
          "output_type": "execute_result",
          "data": {
            "text/plain": [
              "<apache_beam.runners.portability.fn_api_runner.fn_runner.RunnerResult at 0x7fec9e793340>"
            ]
          },
          "metadata": {},
          "execution_count": 14
        }
      ]
    },
    {
      "cell_type": "code",
      "source": [
        "p3 = beam.Pipeline()\n",
        "\n",
        "voos = (\n",
        "p3\n",
        "  | \"Importar Dados\" >> beam.io.ReadFromText(\"voos_sample.csv\", skip_header_lines = 1)\n",
        "  | \"Separar por Vírgul\" >> beam.Map(lambda record: record.split(','))\n",
        "  | \"Pegar voos com atraso\" >> beam.Filter(lambda record: int(record[8]) > 0)\n",
        "  | \"Criar par\" >> beam.Map(lambda record: (record[4], int(record[8])))\n",
        "  | \"Soma por Key\" >> beam.CombinePerKey(sum)\n",
        "  | \"Mostrar Resultado\" >> beam.Map(print)\n",
        ")\n",
        "p3.run()"
      ],
      "metadata": {
        "colab": {
          "base_uri": "https://localhost:8080/"
        },
        "id": "qj3VV2Otfbkk",
        "outputId": "50d23817-45e9-4b06-b263-6bdda72302d1"
      },
      "execution_count": null,
      "outputs": [
        {
          "output_type": "stream",
          "name": "stdout",
          "text": [
            "('LAX', 92)\n",
            "('HNL', 15)\n",
            "('DFW', 95)\n",
            "('OGG', 138)\n",
            "('JFK', 220)\n"
          ]
        },
        {
          "output_type": "execute_result",
          "data": {
            "text/plain": [
              "<apache_beam.runners.portability.fn_api_runner.fn_runner.RunnerResult at 0x7fec8fcd7c70>"
            ]
          },
          "metadata": {},
          "execution_count": 22
        }
      ]
    },
    {
      "cell_type": "code",
      "source": [
        "p = beam.Pipeline()\n",
        "\n",
        "negros = ('Adão','Jesus','Mike')\n",
        "brancos = ('Tulio','Mary ','Joca')\n",
        "indios = ('Vic','Marta','Tom')\n",
        "\n",
        "negros_pc = p | \"Criando Pcollection negros\" >> beam.Create(negros)\n",
        "brancos_pc = p | \"Criando Pcollection brancos\" >> beam.Create(brancos)\n",
        "indios_pc = p | \"Criando Pcollection indios\" >> beam.Create(indios)\n",
        "\n",
        "pessoas = ((negros_pc, brancos_pc, indios_pc) | beam.Flatten()) | beam.Map(print)\n",
        "\n",
        "p.run()"
      ],
      "metadata": {
        "id": "KesvsksQ6rDu"
      },
      "execution_count": null,
      "outputs": []
    }
  ]
}